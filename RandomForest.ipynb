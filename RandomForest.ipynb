{
 "cells": [
  {
   "cell_type": "code",
   "execution_count": null,
   "metadata": {},
   "outputs": [],
   "source": [
    "#Note that data cleaning and variable allocation was done just as before \n",
    "import numpy as np   \n",
    "import matplotlib.pyplot as plt   \n",
    "import seaborn as seabornInstance  \n",
    "from sklearn.linear_model import LinearRegression \n",
    "from sklearn import metrics \n",
    "%matplotlib inline \n",
    "from sklearn.preprocessing import StandardScaler \n",
    "sc = StandardScaler() \n",
    "X_train = sc.fit_transform(X_train) \n",
    "X_test = sc.transform(X_test) \n",
    "from sklearn.ensemble import RandomForestRegressor \n",
    "regr = RandomForestRegressor(max_depth=2, random_state=0, n_estimators=100) \n",
    "regr.fit(X_train, y1_train) \n",
    "y1_pred = regr.predict(X_test) \n",
    " \n",
    "from sklearn.metrics import mean_squared_error as mse \n",
    "from sklearn.metrics import mean_absolute_error as mae \n",
    "from sklearn.metrics import r2_score \n",
    "print('MSE =', mse(y1_pred, y1_test)) \n",
    "print('MAE/Accuracy =', mae(y1_pred, y1_test)) \n",
    "print('Accuracy =', r2_score(y1_pred, y1_test)) \n",
    "print('Accuracy in percentage =', r2_score(y1_pred, y1_test)*100) "
   ]
  },
  {
   "cell_type": "code",
   "execution_count": null,
   "metadata": {},
   "outputs": [],
   "source": [
    "plt.scatter(X_test[:,0],y1_test) \n",
    "plt.scatter(X_test[:,0],y1_pred,c=\"red\") \n",
    "plt.show()"
   ]
  },
  {
   "cell_type": "code",
   "execution_count": null,
   "metadata": {},
   "outputs": [],
   "source": [
    "regr = RandomForestRegressor(max_depth=2, random_state=0, n_estimators=100) \n",
    "regr.fit(X_train, y2_train) \n",
    "y2_pred = regr.predict(X_test) \n",
    " \n",
    "print('MSE =', mse(y2_pred, y2_test)) \n",
    "print('MAE/Accuracy =', mae(y2_pred, y2_test)) \n",
    "print('Accuracy =', r2_score(y2_pred, y2_test)) \n",
    "print('Accuracy in percentage =', r2_score(y2_pred, y2_test)*100) \n"
   ]
  },
  {
   "cell_type": "code",
   "execution_count": null,
   "metadata": {},
   "outputs": [],
   "source": [
    "plt.scatter(X_test[:,0],y2_test) \n",
    "plt.scatter(X_test[:,0],y2_pred,c=\"red\") \n",
    "plt.show()"
   ]
  },
  {
   "cell_type": "code",
   "execution_count": null,
   "metadata": {},
   "outputs": [],
   "source": [
    "regr = RandomForestRegressor(max_depth=2, random_state=0, n_estimators=100) \n",
    "regr.fit(X_train, y3_train) \n",
    "y3_pred = regr.predict(X_test) \n",
    "print('MSE =', mse(y3_pred, y3_test)) \n",
    "print('MAE/Accuracy =', mae(y3_pred, y3_test)) \n",
    "print('Accuracy =', r2_score(y3_pred, y3_test)) \n",
    "print('Accuracy in percentage =', r2_score(y3_pred, y3_test)*100)"
   ]
  },
  {
   "cell_type": "code",
   "execution_count": null,
   "metadata": {},
   "outputs": [],
   "source": [
    "plt.scatter(X_test[:,0],y3_test) \n",
    "plt.scatter(X_test[:,0],y3_pred,c=\"red\") \n",
    "plt.show()"
   ]
  },
  {
   "cell_type": "code",
   "execution_count": null,
   "metadata": {},
   "outputs": [],
   "source": [
    "regr = RandomForestRegressor(max_depth=2, random_state=0, n_estimators=100) \n",
    "regr.fit(X_train, y4_train) \n",
    "y4_pred = regr.predict(X_test) \n",
    "print('MSE =', mse(y4_pred, y4_test)) \n",
    "print('MAE/Accuracy =', mae(y4_pred, y4_test)) \n",
    "print('Accuracy =', r2_score(y4_pred, y4_test)) \n",
    "print('Accuracy in percentage =', r2_score(y4_pred, y4_test)*100) "
   ]
  },
  {
   "cell_type": "code",
   "execution_count": null,
   "metadata": {},
   "outputs": [],
   "source": [
    "plt.scatter(X_test[:,0],y4_test) \n",
    "plt.scatter(X_test[:,0],y4_pred,c=\"red\") \n",
    "plt.show()"
   ]
  },
  {
   "cell_type": "code",
   "execution_count": null,
   "metadata": {},
   "outputs": [],
   "source": [
    "regr = RandomForestRegressor(max_depth=2, random_state=0, n_estimators=100) \n",
    "regr.fit(X_train, y5_train) \n",
    "y5_pred = regr.predict(X_test) \n",
    "print('MSE =', mse(y5_pred, y5_test)) \n",
    "print('MAE/Accuracy =', mae(y5_pred, y5_test)) \n",
    "print('Accuracy =', r2_score(y5_pred, y5_test)) \n",
    "print('Accuracy in percentage =', r2_score(y5_pred, y5_test)*100) "
   ]
  },
  {
   "cell_type": "code",
   "execution_count": null,
   "metadata": {},
   "outputs": [],
   "source": [
    "plt.scatter(X_test[:,0],y5_test) \n",
    "plt.scatter(X_test[:,0],y5_pred,c=\"red\") \n",
    "plt.show()"
   ]
  },
  {
   "cell_type": "code",
   "execution_count": null,
   "metadata": {},
   "outputs": [],
   "source": [
    "regr.fit(X_train, y6_train) \n",
    "y6_pred = regr.predict(X_test) \n",
    "print('MSE =', mse(y6_pred, y6_test)) \n",
    "print('MAE/Accuracy =', mae(y6_pred, y6_test)) \n",
    "print('Accuracy =', r2_score(y6_pred, y6_test)) \n",
    "print('Accuracy in percentage =', r2_score(y6_pred, y6_test)*100)"
   ]
  },
  {
   "cell_type": "code",
   "execution_count": null,
   "metadata": {},
   "outputs": [],
   "source": [
    "plt.scatter(X_test[:,0],y6_test) \n",
    "plt.scatter(X_test[:,0],y6_pred,c=\"red\") \n",
    "plt.show()"
   ]
  },
  {
   "cell_type": "code",
   "execution_count": null,
   "metadata": {},
   "outputs": [],
   "source": [
    "regr = RandomForestRegressor(max_depth=2, random_state=0, n_estimators=100) \n",
    "regr.fit(X_train, y7_train) \n",
    "y7_pred = regr.predict(X_test) \n",
    "print('MSE =', mse(y7_pred, y7_test)) \n",
    "print('MAE/Accuracy =', mae(y7_pred, y7_test)) \n",
    "print('Accuracy =', r2_score(y7_pred, y7_test)) \n",
    "print('Accuracy in percentage =', r2_score(y7_pred, y7_test)*100) "
   ]
  },
  {
   "cell_type": "code",
   "execution_count": null,
   "metadata": {},
   "outputs": [],
   "source": [
    "plt.scatter(X_test[:,0],y7_test) \n",
    "plt.scatter(X_test[:,0],y7_pred,c=\"red\") \n",
    "plt.show()"
   ]
  },
  {
   "cell_type": "code",
   "execution_count": null,
   "metadata": {},
   "outputs": [],
   "source": [
    "regr = RandomForestRegressor(max_depth=2, random_state=0, n_estimators=100) \n",
    "regr.fit(X_train, y8_train) \n",
    "y8_pred = regr.predict(X_test) \n",
    "print('MSE =', mse(y8_pred, y8_test)) \n",
    "print('MAE/Accuracy =', mae(y8_pred, y8_test)) \n",
    "print('Accuracy =', r2_score(y8_pred, y8_test)) \n",
    "print('Accuracy in percentage =', r2_score(y8_pred, y8_test)*100) "
   ]
  },
  {
   "cell_type": "code",
   "execution_count": null,
   "metadata": {},
   "outputs": [],
   "source": [
    "plt.scatter(X_test[:,0],y8_test) \n",
    "plt.scatter(X_test[:,0],y8_pred,c=\"red\") \n",
    "plt.show()"
   ]
  },
  {
   "cell_type": "code",
   "execution_count": null,
   "metadata": {},
   "outputs": [],
   "source": [
    "regr = RandomForestRegressor(max_depth=2, random_state=0, n_estimators=100) \n",
    "regr.fit(X_train, y9_train) \n",
    "y9_pred = regr.predict(X_test) \n",
    "print('MSE =', mse(y9_pred, y9_test)) \n",
    "print('MAE/Accuracy =', mae(y9_pred, y9_test)) \n",
    "print('Accuracy =', r2_score(y9_pred, y9_test)) \n",
    "print('Accuracy in percentage =', r2_score(y9_pred, y9_test)*100) "
   ]
  },
  {
   "cell_type": "code",
   "execution_count": null,
   "metadata": {},
   "outputs": [],
   "source": [
    "plt.scatter(X_test[:,0],y9_test) \n",
    "plt.scatter(X_test[:,0],y9_pred,c=\"red\") \n",
    "plt.show()"
   ]
  },
  {
   "cell_type": "code",
   "execution_count": null,
   "metadata": {},
   "outputs": [],
   "source": []
  }
 ],
 "metadata": {
  "language_info": {
   "name": "python"
  },
  "orig_nbformat": 4
 },
 "nbformat": 4,
 "nbformat_minor": 2
}
